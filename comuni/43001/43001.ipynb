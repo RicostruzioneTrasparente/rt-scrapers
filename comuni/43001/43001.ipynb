{
 "cells": [
  {
   "cell_type": "code",
   "execution_count": 168,
   "metadata": {
    "collapsed": true
   },
   "outputs": [],
   "source": [
    "import pandas as pd\n",
    "from feedgen.feed import FeedGenerator"
   ]
  },
  {
   "cell_type": "code",
   "execution_count": 169,
   "metadata": {},
   "outputs": [],
   "source": [
    "autore=\"Andrea\"\n",
    "email=\"andy@tin.it\"\n",
    "titolo=\"titolo feed\"\n",
    "link=\"http://example.com\"\n",
    "descrizione=\"questa la descrizione\"\n",
    "comune={\"nome\":\"Bagheria\",\"schema\":\"http://albopop.it/specs#channel-category-municipality\"}"
   ]
  },
  {
   "cell_type": "code",
   "execution_count": 170,
   "metadata": {},
   "outputs": [
    {
     "data": {
      "text/html": [
       "<div>\n",
       "<style>\n",
       "    .dataframe thead tr:only-child th {\n",
       "        text-align: right;\n",
       "    }\n",
       "\n",
       "    .dataframe thead th {\n",
       "        text-align: left;\n",
       "    }\n",
       "\n",
       "    .dataframe tbody tr th {\n",
       "        vertical-align: top;\n",
       "    }\n",
       "</style>\n",
       "<table border=\"1\" class=\"dataframe\">\n",
       "  <thead>\n",
       "    <tr style=\"text-align: right;\">\n",
       "      <th></th>\n",
       "      <th>registro</th>\n",
       "      <th>tipologia</th>\n",
       "      <th>title</th>\n",
       "      <th>stato</th>\n",
       "      <th>pubDate</th>\n",
       "      <th>al</th>\n",
       "      <th>link</th>\n",
       "      <th>allegato</th>\n",
       "      <th>description</th>\n",
       "      <th>guid</th>\n",
       "    </tr>\n",
       "  </thead>\n",
       "  <tbody>\n",
       "    <tr>\n",
       "      <th>0</th>\n",
       "      <td>N.351/2016-S</td>\n",
       "      <td>Provvedimento</td>\n",
       "      <td>ORDINANZA SINDACALE N. 21 DEL 06-12-2016</td>\n",
       "      <td>Pubblicato</td>\n",
       "      <td>2016-12-21 02:00:00.000000</td>\n",
       "      <td>2017-12-05</td>\n",
       "      <td>http://www.comune.acquacanina.mc.it/provvedime...</td>\n",
       "      <td>http://www.comune.acquacanina.mc.it/wp-content...</td>\n",
       "      <td>ORDINANZA SINDACALE N. 21 DEL 06-12-2016</td>\n",
       "      <td>http://www.comune.acquacanina.mc.it/provvedime...</td>\n",
       "    </tr>\n",
       "    <tr>\n",
       "      <th>1</th>\n",
       "      <td>N.320/2016-S</td>\n",
       "      <td>Provvedimento</td>\n",
       "      <td>ORDINANZA N. 1/TERREMOTO/DELIMITAZIONE AREA \"Z...</td>\n",
       "      <td>Pubblicato</td>\n",
       "      <td>2016-10-31 02:00:00.000000</td>\n",
       "      <td>2017-12-31</td>\n",
       "      <td>http://www.comune.acquacanina.mc.it/provvedime...</td>\n",
       "      <td>http://www.comune.acquacanina.mc.it/wp-content...</td>\n",
       "      <td>ORDINANZA N. 1/TERREMOTO/DELIMITAZIONE AREA \"Z...</td>\n",
       "      <td>http://www.comune.acquacanina.mc.it/provvedime...</td>\n",
       "    </tr>\n",
       "    <tr>\n",
       "      <th>2</th>\n",
       "      <td>N.295/2015-S</td>\n",
       "      <td>Avviso e segnalazione</td>\n",
       "      <td>COMUNE DI ACQUACANINA ORARIO DEGLI UFFICIO DAL...</td>\n",
       "      <td>Pubblicato</td>\n",
       "      <td>2015-10-07 02:00:00.000000</td>\n",
       "      <td>2024-12-31</td>\n",
       "      <td>http://www.comune.acquacanina.mc.it/avvisi-cms...</td>\n",
       "      <td>http://www.comune.acquacanina.mc.it/wp-content...</td>\n",
       "      <td>COMUNE DI ACQUACANINA ORARIO DEGLI UFFICIO DAL...</td>\n",
       "      <td>http://www.comune.acquacanina.mc.it/avvisi-cms...</td>\n",
       "    </tr>\n",
       "  </tbody>\n",
       "</table>\n",
       "</div>"
      ],
      "text/plain": [
       "       registro              tipologia  \\\n",
       "0  N.351/2016-S          Provvedimento   \n",
       "1  N.320/2016-S          Provvedimento   \n",
       "2  N.295/2015-S  Avviso e segnalazione   \n",
       "\n",
       "                                               title       stato  \\\n",
       "0           ORDINANZA SINDACALE N. 21 DEL 06-12-2016  Pubblicato   \n",
       "1  ORDINANZA N. 1/TERREMOTO/DELIMITAZIONE AREA \"Z...  Pubblicato   \n",
       "2  COMUNE DI ACQUACANINA ORARIO DEGLI UFFICIO DAL...  Pubblicato   \n",
       "\n",
       "                      pubDate          al  \\\n",
       "0  2016-12-21 02:00:00.000000  2017-12-05   \n",
       "1  2016-10-31 02:00:00.000000  2017-12-31   \n",
       "2  2015-10-07 02:00:00.000000  2024-12-31   \n",
       "\n",
       "                                                link  \\\n",
       "0  http://www.comune.acquacanina.mc.it/provvedime...   \n",
       "1  http://www.comune.acquacanina.mc.it/provvedime...   \n",
       "2  http://www.comune.acquacanina.mc.it/avvisi-cms...   \n",
       "\n",
       "                                            allegato  \\\n",
       "0  http://www.comune.acquacanina.mc.it/wp-content...   \n",
       "1  http://www.comune.acquacanina.mc.it/wp-content...   \n",
       "2  http://www.comune.acquacanina.mc.it/wp-content...   \n",
       "\n",
       "                                         description  \\\n",
       "0           ORDINANZA SINDACALE N. 21 DEL 06-12-2016   \n",
       "1  ORDINANZA N. 1/TERREMOTO/DELIMITAZIONE AREA \"Z...   \n",
       "2  COMUNE DI ACQUACANINA ORARIO DEGLI UFFICIO DAL...   \n",
       "\n",
       "                                                guid  \n",
       "0  http://www.comune.acquacanina.mc.it/provvedime...  \n",
       "1  http://www.comune.acquacanina.mc.it/provvedime...  \n",
       "2  http://www.comune.acquacanina.mc.it/avvisi-cms...  "
      ]
     },
     "execution_count": 170,
     "metadata": {},
     "output_type": "execute_result"
    }
   ],
   "source": [
    "df=pd.read_csv('43001_rss.csv')\n",
    "rssdf=df.iloc[0:3,:]\n",
    "rssdf"
   ]
  },
  {
   "cell_type": "code",
   "execution_count": 171,
   "metadata": {},
   "outputs": [
    {
     "data": {
      "text/plain": [
       "[{'scheme': 'http://albopop.it/specs#channel-category-municipality',\n",
       "  'term': 'Bagheria'}]"
      ]
     },
     "execution_count": 171,
     "metadata": {},
     "output_type": "execute_result"
    }
   ],
   "source": [
    "fg = FeedGenerator()\n",
    "fg.title(titolo)\n",
    "fg.author( {'name':autore,'email':email} )\n",
    "fg.link( href=link, rel='self' )\n",
    "fg.language('it')\n",
    "fg.subtitle(descrizione)\n",
    "fg.category(term=comune['nome'],scheme=comune['schema'])"
   ]
  },
  {
   "cell_type": "code",
   "execution_count": 172,
   "metadata": {},
   "outputs": [],
   "source": [
    "for index, row in rssdf.iterrows():\n",
    "    fe = fg.add_entry()\n",
    "    fe.id(row['guid'])\n",
    "    fe.title(row['title'])\n",
    "    fe.category([{\"term\":row['tipologia'],\"scheme\":\"http://albopop.it/specs#item-category-type\"}])\n",
    "    fe.enclosure(url=row['allegato'],length=\"2014\",type=\"application/pdf\")"
   ]
  },
  {
   "cell_type": "code",
   "execution_count": 173,
   "metadata": {},
   "outputs": [],
   "source": [
    "fg.rss_file('43001.xml',pretty=True)"
   ]
  },
  {
   "cell_type": "markdown",
   "metadata": {},
   "source": [
    "# Esempio per ottenere i dati sull'enclosure"
   ]
  },
  {
   "cell_type": "code",
   "execution_count": 174,
   "metadata": {},
   "outputs": [
    {
     "name": "stdout",
     "output_type": "stream",
     "text": [
      "il tipo file è application/pdf e la lunghezza è 1369568\n"
     ]
    }
   ],
   "source": [
    "import urllib\n",
    "res=urllib.urlopen(\"http://www.comune.acquacanina.mc.it/wp-content/blogs.dir/22/files/COMUNE-DI-ACQUACANINA-ORDINANZA-N.-1-TERREMOTO.pdf\")\n",
    "http_message = res.info()\n",
    "full = http_message.type # 'text/plain'\n",
    "length = http_message.getheaders(\"Content-Length\")[0]\n",
    "print('il tipo file è ' + full + ' e la lunghezza è ' + length)"
   ]
  }
 ],
 "metadata": {
  "kernelspec": {
   "display_name": "Python 2",
   "language": "python",
   "name": "python2"
  },
  "language_info": {
   "codemirror_mode": {
    "name": "ipython",
    "version": 2
   },
   "file_extension": ".py",
   "mimetype": "text/x-python",
   "name": "python",
   "nbconvert_exporter": "python",
   "pygments_lexer": "ipython2",
   "version": "2.7.13"
  }
 },
 "nbformat": 4,
 "nbformat_minor": 2
}
